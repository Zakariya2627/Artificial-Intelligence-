{
  "nbformat": 4,
  "nbformat_minor": 0,
  "metadata": {
    "colab": {
      "provenance": [],
      "authorship_tag": "ABX9TyMQDpqNbkZeJYwEFPl8n6Md",
      "include_colab_link": true
    },
    "kernelspec": {
      "name": "python3",
      "display_name": "Python 3"
    },
    "language_info": {
      "name": "python"
    }
  },
  "cells": [
    {
      "cell_type": "markdown",
      "metadata": {
        "id": "view-in-github",
        "colab_type": "text"
      },
      "source": [
        "<a href=\"https://colab.research.google.com/github/Zakariya2627/Artificial-Intelligence-/blob/main/Lab_task_3.ipynb\" target=\"_parent\"><img src=\"https://colab.research.google.com/assets/colab-badge.svg\" alt=\"Open In Colab\"/></a>"
      ]
    },
    {
      "cell_type": "markdown",
      "source": [
        "# Lab 3: Uninformed Search  \n",
        "**Breadth First Search (BFS)** & **Depth First Search (DFS)**  \n",
        "*Artificial Intelligence Lab – Iqra University*  \n",
        "\n",
        "**Student Name:** Muhammad Zakariya\n",
        "**Reg No:** 37581"
      ],
      "metadata": {
        "id": "H1qFZ-6Sw2lT"
      }
    },
    {
      "cell_type": "code",
      "execution_count": 6,
      "metadata": {
        "colab": {
          "base_uri": "https://localhost:8080/"
        },
        "id": "xHXwrE5kwHvn",
        "outputId": "f2c53fb1-5ee2-42f8-f35b-c0ab0b869d25"
      },
      "outputs": [
        {
          "output_type": "stream",
          "name": "stdout",
          "text": [
            "BFS Traversal:\n",
            "A B C D E F "
          ]
        }
      ],
      "source": [
        "# --- Breadth First Search (BFS) ---\n",
        "\n",
        "from collections import deque\n",
        "\n",
        "def bfs(graph, start):\n",
        "    visited = set()\n",
        "    queue = deque([start])\n",
        "\n",
        "    while queue:\n",
        "        node = queue.popleft()\n",
        "        if node not in visited:\n",
        "            print(node, end=\" \")\n",
        "            visited.add(node)\n",
        "            for neighbour in graph[node]:\n",
        "                if neighbour not in visited:\n",
        "                    queue.append(neighbour)\n",
        "\n",
        "# Example graph\n",
        "graph = {\n",
        "    'A': ['B', 'C'],\n",
        "    'B': ['D', 'E'],\n",
        "    'C': ['F'],\n",
        "    'D': [],\n",
        "    'E': ['F'],\n",
        "    'F': []\n",
        "}\n",
        "\n",
        "print(\"BFS Traversal:\")\n",
        "bfs(graph, 'A')"
      ]
    },
    {
      "cell_type": "markdown",
      "source": [],
      "metadata": {
        "id": "8dxp7aidwwT6"
      }
    },
    {
      "cell_type": "code",
      "source": [
        "# --- Depth First Search (DFS) ---\n",
        "\n",
        "def dfs(graph, start, visited=None):\n",
        "    if visited is None:\n",
        "        visited = set()\n",
        "    visited.add(start)\n",
        "    print(start, end=\" \")\n",
        "    for neighbour in graph[start]:\n",
        "        if neighbour not in visited:\n",
        "            dfs(graph, neighbour, visited)\n",
        "\n",
        "graph = {\n",
        "    'A': ['B', 'C'],\n",
        "    'B': ['D', 'E'],\n",
        "    'C': ['F'],\n",
        "    'D': [],\n",
        "    'E': ['F'],\n",
        "    'F': []\n",
        "}\n",
        "\n",
        "print(\"DFS Traversal:\")\n",
        "dfs(graph, 'A')"
      ],
      "metadata": {
        "colab": {
          "base_uri": "https://localhost:8080/"
        },
        "id": "XeORhkBDwTme",
        "outputId": "04333812-9d62-4407-98fa-5252915e3431"
      },
      "execution_count": 7,
      "outputs": [
        {
          "output_type": "stream",
          "name": "stdout",
          "text": [
            "DFS Traversal:\n",
            "A B D E F C "
          ]
        }
      ]
    },
    {
      "cell_type": "code",
      "source": [
        "# --- Count Connected Components using BFS ---\n",
        "\n",
        "from collections import deque\n",
        "\n",
        "def bfs_connected_components(graph):\n",
        "    visited = set()\n",
        "    count = 0\n",
        "\n",
        "    for node in graph:\n",
        "        if node not in visited:\n",
        "            count += 1\n",
        "            queue = deque([node])\n",
        "            while queue:\n",
        "                vertex = queue.popleft()\n",
        "                if vertex not in visited:\n",
        "                    visited.add(vertex)\n",
        "                    queue.extend(graph[vertex])\n",
        "    return count\n",
        "\n",
        "graph = {\n",
        "    0: [1],\n",
        "    1: [0, 2],\n",
        "    2: [1],\n",
        "    3: [4],\n",
        "    4: [3]\n",
        "}\n",
        "\n",
        "print(\"Number of Connected Components:\", bfs_connected_components(graph))"
      ],
      "metadata": {
        "colab": {
          "base_uri": "https://localhost:8080/"
        },
        "id": "KeBnG1iZwf48",
        "outputId": "fe239f24-e1f5-43d5-dbae-92a289d0183d"
      },
      "execution_count": 8,
      "outputs": [
        {
          "output_type": "stream",
          "name": "stdout",
          "text": [
            "Number of Connected Components: 2\n"
          ]
        }
      ]
    },
    {
      "cell_type": "code",
      "source": [
        "graph = {\n",
        "    'A': ['B', 'C'],\n",
        "    'B': ['D', 'E'],\n",
        "    'C': ['F'],\n",
        "    'D': [],\n",
        "    'E': ['F'],\n",
        "    'F': []\n",
        "}\n",
        "\n",
        "print(\"DFS from A to F:\")\n",
        "dfs(graph, 'A')"
      ],
      "metadata": {
        "id": "3eEohTc-wozg",
        "colab": {
          "base_uri": "https://localhost:8080/"
        },
        "outputId": "878efbf0-fedf-4c91-e4e2-aa9b81bdcad4"
      },
      "execution_count": 9,
      "outputs": [
        {
          "output_type": "stream",
          "name": "stdout",
          "text": [
            "DFS from A to F:\n",
            "A B D E F C "
          ]
        }
      ]
    },
    {
      "cell_type": "code",
      "source": [
        "# --- Water Jug Problem using DFS ---\n",
        "# Jug X = 4 gallons, Jug Y = 3 gallons, Goal = 2 gallons in Jug X\n",
        "\n",
        "def water_jug_dfs(cap_x, cap_y, goal):\n",
        "    visited = set()\n",
        "\n",
        "    def dfs(x, y):\n",
        "        if (x, y) in visited:\n",
        "            return False\n",
        "        print(f\"({x}, {y})\")\n",
        "        visited.add((x, y))\n",
        "\n",
        "        if x == goal:\n",
        "            print(\"✅ Goal Reached!\")\n",
        "            return True\n",
        "\n",
        "        moves = [\n",
        "            (cap_x, y),                            # Fill X\n",
        "            (x, cap_y),                            # Fill Y\n",
        "            (0, y),                                # Empty X\n",
        "            (x, 0),                                # Empty Y\n",
        "            (x - min(x, cap_y - y), y + min(x, cap_y - y)),  # Pour X→Y\n",
        "            (x + min(y, cap_x - x), y - min(y, cap_x - x))   # Pour Y→X\n",
        "        ]\n",
        "\n",
        "        for move in moves:\n",
        "            if dfs(*move):\n",
        "                return True\n",
        "        return False\n",
        "\n",
        "    dfs(0, 0)\n",
        "\n",
        "water_jug_dfs(4, 3, 2)"
      ],
      "metadata": {
        "id": "-wW-9zPXwp6c",
        "colab": {
          "base_uri": "https://localhost:8080/"
        },
        "outputId": "70a33e90-1629-4d72-8e51-770d31d54672"
      },
      "execution_count": 10,
      "outputs": [
        {
          "output_type": "stream",
          "name": "stdout",
          "text": [
            "(0, 0)\n",
            "(4, 0)\n",
            "(4, 3)\n",
            "(0, 3)\n",
            "(3, 0)\n",
            "(3, 3)\n",
            "(4, 2)\n",
            "(0, 2)\n",
            "(2, 0)\n",
            "✅ Goal Reached!\n"
          ]
        }
      ]
    },
    {
      "cell_type": "markdown",
      "source": [
        "### Discussion\n",
        "- **BFS** explores level by level using a queue.  \n",
        "- **DFS** explores one branch deeply using recursion/stack.  \n",
        "- **Water Jug** uses DFS to find a sequence of valid moves to reach the goal state."
      ],
      "metadata": {
        "id": "f8GyGCTlxI9j"
      }
    }
  ]
}